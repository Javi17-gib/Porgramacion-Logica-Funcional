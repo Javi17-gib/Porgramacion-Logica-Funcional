{
 "cells": [
  {
   "cell_type": "markdown",
   "id": "0807f4aa",
   "metadata": {},
   "source": [
    "# Ejercicio 1\n",
    "Ejercicio 1 de Evaluacion de Expresiones en Python\n",
    "\n",
    "$ \\frac {\\pi ^ 2}{6} = \\sum_{n=1}^{\\infty}\\frac{1}{n ^ 2} $"
   ]
  },
  {
   "cell_type": "code",
   "execution_count": 9,
   "id": "f030c89c",
   "metadata": {},
   "outputs": [
    {
     "name": "stdout",
     "output_type": "stream",
     "text": [
      "Valor Teorico: 1.6449340668482264, Aproximacion: 1.6442671779099558\n",
      "Error: 0.0006668889382706045\n"
     ]
    }
   ],
   "source": [
    "import math\n",
    "res = math.pi**2 / 6\n",
    "res2=0\n",
    "for n in range(1,1500):\n",
    "    res2 +=1 / (n**2)\n",
    "\n",
    "print(f\"Valor Teorico: {res}, Aproximacion: {res2}\")    \n",
    "error=abs(res-res2)\n",
    "print(f\"Error: {error}\")"
   ]
  }
 ],
 "metadata": {
  "kernelspec": {
   "display_name": "Python 3",
   "language": "python",
   "name": "python3"
  },
  "language_info": {
   "codemirror_mode": {
    "name": "ipython",
    "version": 3
   },
   "file_extension": ".py",
   "mimetype": "text/x-python",
   "name": "python",
   "nbconvert_exporter": "python",
   "pygments_lexer": "ipython3",
   "version": "3.12.3"
  }
 },
 "nbformat": 4,
 "nbformat_minor": 5
}
