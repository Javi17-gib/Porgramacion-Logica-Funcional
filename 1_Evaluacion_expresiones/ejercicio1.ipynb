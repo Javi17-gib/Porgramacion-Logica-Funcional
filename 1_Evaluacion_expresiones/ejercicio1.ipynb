{
 "cells": [
  {
   "cell_type": "markdown",
   "id": "0807f4aa",
   "metadata": {},
   "source": [
    "# Ejercicio 1\n",
    "Ejercicio 1 de Evaluacion de Expresiones en Python\n",
    "\n",
    "$ \\frac {\\pi ^ 2}{6} = \\sum_{n=1}^{\\infty}\\frac{1}{n ^ 2} $"
   ]
  },
  {
   "cell_type": "code",
   "execution_count": 1,
   "id": "f030c89c",
   "metadata": {},
   "outputs": [
    {
     "name": "stdout",
     "output_type": "stream",
     "text": [
      "Valor Teorico: 1.6449340668482264, Aproximacion: 1.6442671779099558\n",
      "Error: 0.0006668889382706045\n"
     ]
    }
   ],
   "source": [
    "import math\n",
    "res = math.pi**2 / 6\n",
    "res2=0\n",
    "for n in range(1,1500):\n",
    "    res2 +=1 / (n**2)\n",
    "\n",
    "print(f\"Valor Teorico: {res}, Aproximacion: {res2}\")    \n",
    "error=abs(res-res2)\n",
    "print(f\"Error: {error}\")"
   ]
  },
  {
   "cell_type": "markdown",
   "id": "83a7c710",
   "metadata": {},
   "source": [
    "### Expresion\n",
    "\n",
    "\n",
    "Primero de Ejecuta la potencia: 2**2 = 4\n",
    "\n",
    "Despues se multiplica por 4\n",
    "\n",
    "Y por ultimo se le suman 3 "
   ]
  },
  {
   "cell_type": "code",
   "execution_count": 3,
   "id": "603433a0",
   "metadata": {},
   "outputs": [
    {
     "name": "stdout",
     "output_type": "stream",
     "text": [
      "19\n"
     ]
    }
   ],
   "source": [
    "Resultado = 3 + 4 * 2 **2\n",
    "print(Resultado)"
   ]
  },
  {
   "cell_type": "markdown",
   "id": "4ff2d9e0",
   "metadata": {},
   "source": [
    "### Expresion 1\n",
    "\n",
    "Primero se realiza lo que esta dentro de los parentesis ( 3 + 2 )\n",
    "\n",
    "Y al final se multiplica por 4"
   ]
  },
  {
   "cell_type": "code",
   "execution_count": 2,
   "id": "f0b95ef8",
   "metadata": {},
   "outputs": [
    {
     "name": "stdout",
     "output_type": "stream",
     "text": [
      "20\n"
     ]
    }
   ],
   "source": [
    "expr1 = (3 + 2) * 4 \n",
    "print(expr1)"
   ]
  },
  {
   "cell_type": "markdown",
   "id": "ce933efd",
   "metadata": {},
   "source": [
    "### Expresion 2\n",
    "\n",
    "Primero se ejecuta la pontencia 3**2\n",
    "\n",
    "Y por ultimo el resultado se multiplica por 2"
   ]
  },
  {
   "cell_type": "code",
   "execution_count": 3,
   "id": "776117fe",
   "metadata": {},
   "outputs": [
    {
     "name": "stdout",
     "output_type": "stream",
     "text": [
      "18\n"
     ]
    }
   ],
   "source": [
    "expr2 = 2 * 3 ** 2\n",
    "print(expr2)"
   ]
  },
  {
   "cell_type": "markdown",
   "id": "a2689b9d",
   "metadata": {},
   "source": [
    "### Expresion 3\n",
    "\n",
    "Primero se realiza la divicion entera entre 10//3 que da como resultado 3.33 y se redondea a 3\n",
    "\n",
    "Y al final se le suman 2"
   ]
  },
  {
   "cell_type": "code",
   "execution_count": 4,
   "id": "f5a59c4c",
   "metadata": {},
   "outputs": [
    {
     "name": "stdout",
     "output_type": "stream",
     "text": [
      "5\n"
     ]
    }
   ],
   "source": [
    "expr3 = 10 // 3 + 2\n",
    "print(expr3)"
   ]
  },
  {
   "cell_type": "markdown",
   "id": "2e78cf85",
   "metadata": {},
   "source": [
    "### Expresion 4\n",
    "\n",
    "Primero se realiza el operador Modulo (%) que seria una divicion (17/5) que da como resultado 3.4, lo que hace este operador es solo tomar el numero estero que en este caso seria 3 \n",
    "\n",
    "Despues se multiplica el 3 * 5 que es el valor de la divicion que da 15\n",
    "\n",
    "Despues se resta 17 - 15 (que es lo del opetador modulo) que da como resultado 2\n",
    "\n",
    "Y por ultimo se Multiplica 2*2 y da como resultado 4"
   ]
  },
  {
   "cell_type": "code",
   "execution_count": 13,
   "id": "bbddf3e8",
   "metadata": {},
   "outputs": [
    {
     "name": "stdout",
     "output_type": "stream",
     "text": [
      "4\n"
     ]
    }
   ],
   "source": [
    "expr4 = 17 % 5 * 2\n",
    "print(expr4)"
   ]
  },
  {
   "cell_type": "markdown",
   "id": "fb9f9f73",
   "metadata": {},
   "source": [
    "### Expresion 5\n",
    "\n",
    "Primero tiene prioridad la potencia que seria 2**2 que ya como resultado 4\n",
    "\n",
    "y al final se le agrega el negativo por lo cual queda -4"
   ]
  },
  {
   "cell_type": "code",
   "execution_count": 6,
   "id": "88c51b80",
   "metadata": {},
   "outputs": [
    {
     "name": "stdout",
     "output_type": "stream",
     "text": [
      "-4\n"
     ]
    }
   ],
   "source": [
    "expr5 = -2 ** 2\n",
    "print(expr5)"
   ]
  },
  {
   "cell_type": "markdown",
   "id": "1209aaf0",
   "metadata": {},
   "source": [
    "### Expresion 6\n",
    "\n",
    "Primero se realiza la potencia que es 2**2 que da como resultado 4\n",
    "\n",
    "A ese resultado se multiplica por 4 que seria 4*4 y da como resultado 16\n",
    "\n",
    "Posterior a ese resultado se divide entre 3 que es 16/3 que da como resultado 5.3 pero solo se usan los valores enteros que es este caso es 5\n",
    "\n",
    "Y al final se le suma 3 y da como resultado 8"
   ]
  },
  {
   "cell_type": "code",
   "execution_count": 7,
   "id": "a7fd5682",
   "metadata": {},
   "outputs": [
    {
     "name": "stdout",
     "output_type": "stream",
     "text": [
      "8\n"
     ]
    }
   ],
   "source": [
    "expr6 = 3 + 4 * 2 ** 2 // 3\n",
    "print(expr6)"
   ]
  },
  {
   "cell_type": "markdown",
   "id": "96e08c00",
   "metadata": {},
   "source": [
    "### Expresion 7\n",
    "\n",
    "Primero se checa la primera Expresion que es 3 < 4 que es true ya que 3 si es menor que 4\n",
    "\n",
    "y por ultimo se checa la la otra parte que es 4 < 5 que es true ya que 4 si es menor que 5 \n",
    "\n",
    "Por eso es que esa expresion da true"
   ]
  },
  {
   "cell_type": "code",
   "execution_count": 8,
   "id": "fbfb7ea0",
   "metadata": {},
   "outputs": [
    {
     "name": "stdout",
     "output_type": "stream",
     "text": [
      "True\n"
     ]
    }
   ],
   "source": [
    "expr7 = 3 < 4 < 5\n",
    "print(expr7)"
   ]
  },
  {
   "cell_type": "markdown",
   "id": "cfb44084",
   "metadata": {},
   "source": [
    "### Expresion 8\n",
    "\n",
    "Primero se checa la expresion (3 > 2) ya que 3 es mayor que 2 por lo cual es true\n",
    "\n",
    "Despues se checa la otra expresion (5 < 10) ya que 5 es menor que 10 ya que es true \n",
    "\n",
    "Por eso esta expresion es true porque se cumple con las 2 condiciones"
   ]
  },
  {
   "cell_type": "code",
   "execution_count": 9,
   "id": "0ca0ce11",
   "metadata": {},
   "outputs": [
    {
     "name": "stdout",
     "output_type": "stream",
     "text": [
      "True\n"
     ]
    }
   ],
   "source": [
    "expr8 = (3 > 2) and (5 < 10) or False\n",
    "print(expr8)"
   ]
  },
  {
   "cell_type": "markdown",
   "id": "661d6d7a",
   "metadata": {},
   "source": [
    "### Expresion 9\n",
    "\n",
    "Primero se resuelve la suma 3+1 que da como resultado 4\n",
    "\n",
    "Despues queda la expresion 5&4 que esto se resulve con numeros binarios que quedaria de este manera \n",
    "5:0101\n",
    "4:0100\n",
    "\n",
    "Despues se realiza el AND bit a bit\n",
    "0101 & 0100\n",
    "Que queda como res 0100 que da como resultado 4\n"
   ]
  },
  {
   "cell_type": "code",
   "execution_count": 10,
   "id": "5ebffb47",
   "metadata": {},
   "outputs": [
    {
     "name": "stdout",
     "output_type": "stream",
     "text": [
      "4\n"
     ]
    }
   ],
   "source": [
    "expr9 = 5 & 3 + 1\n",
    "print(expr9)"
   ]
  },
  {
   "cell_type": "markdown",
   "id": "6d28a25d",
   "metadata": {},
   "source": [
    "### Expresion 10\n",
    "Resolver lo que está dentro de paréntesis \n",
    "(2+3)=5\n",
    "\n",
    "Potencias primero\n",
    "4∗∗2=16\n",
    "\n",
    "Multiplicación y división entera\n",
    "5∗16=80 y 80//2=40\n",
    "\n",
    "Resolver not False\n",
    "notFalse=True\n",
    "Expresión:\n",
    "40\n",
    "and True\n"
   ]
  },
  {
   "cell_type": "code",
   "execution_count": 11,
   "id": "42d251ab",
   "metadata": {},
   "outputs": [
    {
     "name": "stdout",
     "output_type": "stream",
     "text": [
      "True\n"
     ]
    }
   ],
   "source": [
    "expr10 = (2 + 3) * 4 ** 2 // (5 % 3) and not False\n",
    "print(expr10)"
   ]
  },
  {
   "cell_type": "markdown",
   "id": "9f928b31",
   "metadata": {},
   "source": [
    "### Expresion 11\n",
    "\n",
    "Expresión: expr11 = ((65 & 66) > 70) and not (65 ^ 66) == 0\n",
    "\n",
    "1. Operadores que intervienen:\n",
    "   - &  → AND bit a bit\n",
    "   - ^  → XOR bit a bit\n",
    "   - >  → comparación mayor que\n",
    "   - == → comparación de igualdad\n",
    "   - not → negación lógica\n",
    "   - and → operador lógico AND\n",
    "\n",
    "2. Resolver (65 & 66):\n",
    "   65 = 1000001 (binario)\n",
    "   66 = 1000010 (binario)\n",
    "   1000001 & 1000010 = 1000000 (64 en decimal)\n",
    "\n",
    "3. Resolver (65 ^ 66):\n",
    "   65 = 1000001\n",
    "   66 = 1000010\n",
    "   1000001 ^ 1000010 = 0000011 (3 en decimal)\n",
    "\n",
    "4. Sustituir en la expresión:\n",
    "   ((65 & 66) > 70) and not (65 ^ 66) == 0\n",
    "   → (64 > 70) and not (3 == 0)\n",
    "\n",
    "5. Resolver comparaciones:\n",
    "   64 > 70 → False\n",
    "   3 == 0 → False\n",
    "   → False and not False\n",
    "\n",
    "6. Resolver not:\n",
    "   not False → True\n",
    "   → False and True\n",
    "\n",
    "7. Evaluar and:\n",
    "   False and True → False\n",
    "\n",
    "Resultado final: expr11 = False"
   ]
  },
  {
   "cell_type": "code",
   "execution_count": 14,
   "id": "84c590ba",
   "metadata": {},
   "outputs": [
    {
     "name": "stdout",
     "output_type": "stream",
     "text": [
      "False\n"
     ]
    }
   ],
   "source": [
    "expr11 =  ((65 & 66) > 70 ) and not (65 ^ 66) == 0 \n",
    "print(expr11)"
   ]
  }
 ],
 "metadata": {
  "kernelspec": {
   "display_name": "Python 3",
   "language": "python",
   "name": "python3"
  },
  "language_info": {
   "codemirror_mode": {
    "name": "ipython",
    "version": 3
   },
   "file_extension": ".py",
   "mimetype": "text/x-python",
   "name": "python",
   "nbconvert_exporter": "python",
   "pygments_lexer": "ipython3",
   "version": "3.12.3"
  }
 },
 "nbformat": 4,
 "nbformat_minor": 5
}
